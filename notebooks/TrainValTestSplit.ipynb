{
 "cells": [
  {
   "cell_type": "code",
   "execution_count": 1,
   "metadata": {},
   "outputs": [],
   "source": [
    "import pandas as pd"
   ]
  },
  {
   "cell_type": "code",
   "execution_count": 5,
   "metadata": {},
   "outputs": [],
   "source": [
    "train = pd.read_csv('../../ribs_filtering/data/dual_train.csv', index_col=0)\n",
    "test = pd.read_csv('../../ribs_filtering/data/dual_test.csv', index_col=0)\n",
    "\n",
    "df = pd.concat([train, test])"
   ]
  },
  {
   "cell_type": "code",
   "execution_count": 7,
   "metadata": {},
   "outputs": [
    {
     "data": {
      "text/plain": [
       "(35, 2)"
      ]
     },
     "execution_count": 7,
     "metadata": {},
     "output_type": "execute_result"
    }
   ],
   "source": [
    "df.shape"
   ]
  },
  {
   "cell_type": "code",
   "execution_count": 16,
   "metadata": {},
   "outputs": [],
   "source": [
    "val = \\\n",
    "pd.concat([df[df['cleared'].str.find('_04') > -1],\n",
    "           df[df['cleared'].str.find('_11') > -1],\n",
    "           df[df['cleared'].str.find('_14') > -1],\n",
    "           df[df['cleared'].str.find('_20') > -1]\n",
    "          ]).reset_index(drop=True)"
   ]
  },
  {
   "cell_type": "code",
   "execution_count": 22,
   "metadata": {},
   "outputs": [],
   "source": [
    "test = \\\n",
    "pd.concat([df[df['cleared'].str.find('_00') > -1],\n",
    "           df[df['cleared'].str.find('_01') > -1],\n",
    "           df[df['cleared'].str.find('_10') > -1],\n",
    "           df[df['cleared'].str.find('_18') > -1],\n",
    "           df[df['cleared'].str.find('_21') > -1],\n",
    "           df[df['cleared'].str.find('_26') > -1],\n",
    "           df[df['cleared'].str.find('_28') > -1]\n",
    "          ]).reset_index(drop=True)"
   ]
  },
  {
   "cell_type": "code",
   "execution_count": 29,
   "metadata": {},
   "outputs": [],
   "source": [
    "train = df[~df['cleared'].isin(test['cleared']) & ~df['cleared'].isin(val['cleared'])].reset_index(drop=True)"
   ]
  },
  {
   "cell_type": "code",
   "execution_count": 31,
   "metadata": {},
   "outputs": [
    {
     "data": {
      "text/plain": [
       "((24, 2), (4, 2), (7, 2))"
      ]
     },
     "execution_count": 31,
     "metadata": {},
     "output_type": "execute_result"
    }
   ],
   "source": [
    "train.shape, val.shape, test.shape"
   ]
  },
  {
   "cell_type": "code",
   "execution_count": 32,
   "metadata": {},
   "outputs": [],
   "source": [
    "train.to_csv('../data/train.csv')\n",
    "val.to_csv('../data/val.csv')\n",
    "test.to_csv('../data/test.csv')"
   ]
  },
  {
   "cell_type": "code",
   "execution_count": null,
   "metadata": {},
   "outputs": [],
   "source": []
  }
 ],
 "metadata": {
  "kernelspec": {
   "display_name": "Python 3",
   "language": "python",
   "name": "python3"
  },
  "language_info": {
   "codemirror_mode": {
    "name": "ipython",
    "version": 3
   },
   "file_extension": ".py",
   "mimetype": "text/x-python",
   "name": "python",
   "nbconvert_exporter": "python",
   "pygments_lexer": "ipython3",
   "version": "3.6.8"
  }
 },
 "nbformat": 4,
 "nbformat_minor": 2
}
